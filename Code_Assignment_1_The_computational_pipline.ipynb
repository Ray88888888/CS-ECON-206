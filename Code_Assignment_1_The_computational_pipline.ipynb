{
  "nbformat": 4,
  "nbformat_minor": 0,
  "metadata": {
    "colab": {
      "name": "Code Assignment 1: The computational pipline.ipynb",
      "provenance": [],
      "authorship_tag": "ABX9TyPzrgCZnb7zkjj/VDcSDvbH",
      "include_colab_link": true
    },
    "kernelspec": {
      "name": "python3",
      "display_name": "Python 3"
    },
    "language_info": {
      "name": "python"
    }
  },
  "cells": [
    {
      "cell_type": "markdown",
      "metadata": {
        "id": "view-in-github",
        "colab_type": "text"
      },
      "source": [
        "<a href=\"https://colab.research.google.com/github/Ray88888888/CS-ECON-206/blob/main/Code_Assignment_1_The_computational_pipline.ipynb\" target=\"_parent\"><img src=\"https://colab.research.google.com/assets/colab-badge.svg\" alt=\"Open In Colab\"/></a>"
      ]
    },
    {
      "cell_type": "markdown",
      "source": [
        "Replicate from Rodolfo Mendes's [Article](https://reinforcement-learning4.fun/2019/06/16/gym-tutorial-frozen-lake/)."
      ],
      "metadata": {
        "id": "hAyQ4ilaFTNw"
      }
    },
    {
      "cell_type": "markdown",
      "source": [
        "# **Gym Tutorial: The Frozen Lake**"
      ],
      "metadata": {
        "id": "ZCWOr3fTGIea"
      }
    },
    {
      "cell_type": "markdown",
      "source": [
        "In this article, we are going to learn how to create and explore the Frozen Lake environment using the [Gym library](https://gym.openai.com/), an open source project created by [OpenAI](https://openai.com/) used for reinforcement learning experiments. The Gym library defines a uniform interface for environments what makes the integration between algorithms and environment easier for developers. Among many ready-to-use environments, the default installation includes a text-mode version of the Frozen Lake game, used as example in our last post."
      ],
      "metadata": {
        "id": "KPZJ8U-QGOFR"
      }
    },
    {
      "cell_type": "markdown",
      "source": [
        "## **The Frozen Lake Environment**"
      ],
      "metadata": {
        "id": "MIGBg78vGk0b"
      }
    },
    {
      "cell_type": "markdown",
      "source": [
        "The first step to create the game is to import the Gym library and create the environment. The code below shows how to do it:"
      ],
      "metadata": {
        "id": "Ppz1wX4KGsa6"
      }
    },
    {
      "cell_type": "code",
      "source": [
        "#frozen-lake-ex1.py\n",
        "import gym # loading the Gym library\n",
        " \n",
        "env = gym.make(\"FrozenLake-v0\")\n",
        "env.reset()                    \n",
        "env.render()"
      ],
      "metadata": {
        "colab": {
          "base_uri": "https://localhost:8080/"
        },
        "id": "uKoCnYphGHf_",
        "outputId": "5cd030ff-a46a-4150-a0e7-2068b24e3953"
      },
      "execution_count": 1,
      "outputs": [
        {
          "output_type": "stream",
          "name": "stdout",
          "text": [
            "\n",
            "\u001b[41mS\u001b[0mFFF\n",
            "FHFH\n",
            "FFFH\n",
            "HFFG\n"
          ]
        }
      ]
    },
    {
      "cell_type": "markdown",
      "source": [
        "The first instruction imports Gym objects to our current namespace. The next line calls the method gym.make() to create the Frozen Lake environment and then we call the method env.reset() to put it on its initial state. Finally, we call the method env.render() to print its state:"
      ],
      "metadata": {
        "id": "DST32BmUG3Kc"
      }
    },
    {
      "cell_type": "markdown",
      "source": [
        "So, the same grid we saw in the [previous post](https://reinforcement-learning4.fun/2019/06/09/introduction-reinforcement-learning-frozen-lake-example/) now is represented by a matrix of characters. Their meaning is as follows:\n",
        "\n",
        "*   S: initial state\n",
        "*   **F**: frozen lake\n",
        "*   **H**: hole\n",
        "*   **G**: the goal\n",
        "*   **Red square**: indicates the current position of the player\n",
        "\n",
        "\n",
        "\n",
        "\n",
        "\n"
      ],
      "metadata": {
        "id": "62Ds-p_9G7Ob"
      }
    },
    {
      "cell_type": "markdown",
      "source": [
        "Also, we can inspect the possible actions to perform in the environment, as well as the possible states of the game:"
      ],
      "metadata": {
        "id": "a-R0BkmRHMnj"
      }
    },
    {
      "cell_type": "code",
      "source": [
        "# frozen-lake-ex1.py\n",
        " \n",
        "print(\"Action space: \", env.action_space)\n",
        "print(\"Observation space: \", env.observation_space)"
      ],
      "metadata": {
        "colab": {
          "base_uri": "https://localhost:8080/"
        },
        "id": "49Oop5mfG6M4",
        "outputId": "89fd0e74-8c3e-48f8-e999-8707500f44e9"
      },
      "execution_count": 2,
      "outputs": [
        {
          "output_type": "stream",
          "name": "stdout",
          "text": [
            "Action space:  Discrete(4)\n",
            "Observation space:  Discrete(16)\n"
          ]
        }
      ]
    },
    {
      "cell_type": "markdown",
      "source": [
        "In the code above, we print on the console the field action_space and the field observation_space. The returned objects are of the type Discrete, which describes a discrete space of size n. For example, the action_space for the Frozen Lake environment is a discrete space of 4 values, which means that the possible values for this space are 0 (zero), 1, 2 and 3. Yet, the observation_space is a discrete space of 16 values, which goes from 0 to 15. Besides, these objects offer some utility methods, like the sample() method which returns a random value from the space. With this method, we can easily create a dummy agent that plays the game randomly:"
      ],
      "metadata": {
        "id": "APoXcHUoJPvA"
      }
    },
    {
      "cell_type": "code",
      "source": [
        "# frozen-lake-ex2.py\n",
        "import gym\n",
        " \n",
        "MAX_ITERATIONS = 10\n",
        " \n",
        "env = gym.make(\"FrozenLake-v0\")\n",
        "env.reset()\n",
        "env.render()\n",
        "for i in range(MAX_ITERATIONS):\n",
        "    random_action = env.action_space.sample()\n",
        "    new_state, reward, done, info = env.step(\n",
        "       random_action)\n",
        "    env.render()\n",
        "    if done:\n",
        "        break"
      ],
      "metadata": {
        "colab": {
          "base_uri": "https://localhost:8080/"
        },
        "id": "NEQ1Q5DiG2MP",
        "outputId": "ae1dea1a-87a7-45da-9574-e919e5df4b40"
      },
      "execution_count": 3,
      "outputs": [
        {
          "output_type": "stream",
          "name": "stdout",
          "text": [
            "\n",
            "\u001b[41mS\u001b[0mFFF\n",
            "FHFH\n",
            "FFFH\n",
            "HFFG\n",
            "  (Down)\n",
            "S\u001b[41mF\u001b[0mFF\n",
            "FHFH\n",
            "FFFH\n",
            "HFFG\n",
            "  (Left)\n",
            "\u001b[41mS\u001b[0mFFF\n",
            "FHFH\n",
            "FFFH\n",
            "HFFG\n",
            "  (Left)\n",
            "SFFF\n",
            "\u001b[41mF\u001b[0mHFH\n",
            "FFFH\n",
            "HFFG\n",
            "  (Right)\n",
            "SFFF\n",
            "F\u001b[41mH\u001b[0mFH\n",
            "FFFH\n",
            "HFFG\n"
          ]
        }
      ]
    },
    {
      "cell_type": "markdown",
      "source": [
        "The code above executes the game for a maximum of 10 iterations using the method sample() from the action_space object to select a random action. Then the env.step() method takes the action as input, executes the action on the environment and returns a tuple of four values:\n",
        "\n",
        "*   **new_state**: the new state of the environment\n",
        "*   **reward**: the reward\n",
        "*   **done**: a boolean flag indicating if the returned state is a terminal state\n",
        "*   reward: info: an object with additional information for debugging purposes\n",
        "\n",
        "Finally, we use the method env.render() to print the grid on the console and use the returned “done” flag to break the loop. Notice that the selected action is printed together with the grid:"
      ],
      "metadata": {
        "id": "czWmaJUiJXZN"
      }
    },
    {
      "cell_type": "markdown",
      "source": [
        "## **Stochastic vs Deterministic**"
      ],
      "metadata": {
        "id": "EcYTJRAiJsaN"
      }
    },
    {
      "cell_type": "markdown",
      "source": [
        "Note in the previous output the cases in which the player moves in a different direction than the one chosen by the agent. This behavior is completely normal in the Frozen Lake environment because it simulates a slippery surface. Also, this behavior represents an important characteristic of real-world environments: the transitions from one state to another, for a given action, are probabilistic. For example, if we shoot a bow and arrow there’s a chance to hit the target as well as to miss it. The distribution between these two possibilities will depend on our skill and other factors, like the direction of the wind, for example. Due to this probabilistic nature, the final result of a state transition does not depend entirely on the taken action.\n",
        "\n",
        "By default, the Frozen Lake environment provided in Gym has probabilistic transitions between states. In other words, even when our agent chooses to move in one direction, the environment can execute a movement in another direction:"
      ],
      "metadata": {
        "id": "0TKYpKHyJvys"
      }
    },
    {
      "cell_type": "code",
      "execution_count": 6,
      "metadata": {
        "colab": {
          "base_uri": "https://localhost:8080/"
        },
        "id": "voQO8vqs_glF",
        "outputId": "02450772-f2a8-4ea2-fa56-800b52211518"
      },
      "outputs": [
        {
          "output_type": "stream",
          "name": "stdout",
          "text": [
            "---- winning sequence ------ \n",
            "['Right', 'Right', 'Down', 'Down', 'Down', 'Right']\n",
            "\n",
            "\u001b[41mS\u001b[0mFFF\n",
            "FHFH\n",
            "FFFH\n",
            "HFFG\n",
            "\n",
            "  (Right)\n",
            "SFFF\n",
            "\u001b[41mF\u001b[0mHFH\n",
            "FFFH\n",
            "HFFG\n",
            "Reward: 0.00\n",
            "{'prob': 0.3333333333333333}\n",
            "\n",
            "  (Right)\n",
            "SFFF\n",
            "FHFH\n",
            "\u001b[41mF\u001b[0mFFH\n",
            "HFFG\n",
            "Reward: 0.00\n",
            "{'prob': 0.3333333333333333}\n",
            "\n",
            "  (Down)\n",
            "SFFF\n",
            "FHFH\n",
            "F\u001b[41mF\u001b[0mFH\n",
            "HFFG\n",
            "Reward: 0.00\n",
            "{'prob': 0.3333333333333333}\n",
            "\n",
            "  (Down)\n",
            "SFFF\n",
            "FHFH\n",
            "FFFH\n",
            "H\u001b[41mF\u001b[0mFG\n",
            "Reward: 0.00\n",
            "{'prob': 0.3333333333333333}\n",
            "\n",
            "  (Down)\n",
            "SFFF\n",
            "FHFH\n",
            "FFFH\n",
            "\u001b[41mH\u001b[0mFFG\n",
            "Reward: 0.00\n",
            "{'prob': 0.3333333333333333}\n",
            "\n"
          ]
        }
      ],
      "source": [
        "# frozen-lake-ex3.py\n",
        "import gym\n",
        " \n",
        "actions = {\n",
        "    'Left': 0,\n",
        "    'Down': 1,\n",
        "    'Right': 2, \n",
        "    'Up': 3\n",
        "}\n",
        " \n",
        "print('---- winning sequence ------ ')\n",
        "winning_sequence = (2 * ['Right']) + (3 * ['Down']) + ['Right']\n",
        "print(winning_sequence)\n",
        " \n",
        "env = gym.make(\"FrozenLake-v0\")\n",
        "env.reset()\n",
        "env.render()\n",
        " \n",
        "for a in winning_sequence:\n",
        "    new_state, reward, done, info = env.step(actions[a])\n",
        "    print()\n",
        "    env.render()\n",
        "    print(\"Reward: {:.2f}\".format(reward))\n",
        "    print(info)\n",
        "    if done:\n",
        "        break  \n",
        " \n",
        "print()"
      ]
    },
    {
      "cell_type": "markdown",
      "source": [
        "Executing the code above, we can observe different results and paths at each execution. Also, using the info object returned by the step method we can inspect the probability used by the environment to choose the executed movement:\n",
        "\n"
      ],
      "metadata": {
        "id": "2Qjr9xnnJ8AW"
      }
    },
    {
      "cell_type": "markdown",
      "source": [
        "However, the Frozen Lake environment can also be used in deterministic mode. By setting the property is_slippery=False when creating the environment, the slippery surface is turned off and then the environment always executes the action chosen by the agent:"
      ],
      "metadata": {
        "id": "tvYDHG6AJ-IA"
      }
    },
    {
      "cell_type": "code",
      "source": [
        "# frozen-lake-ex4.py\n",
        "env = gym.make(\"FrozenLake-v0\", is_slippery=False)"
      ],
      "metadata": {
        "id": "3gr2--J0Jyul"
      },
      "execution_count": 8,
      "outputs": []
    },
    {
      "cell_type": "markdown",
      "source": [
        "Observe that the probabilities returned in the info object is always equals to 1.0."
      ],
      "metadata": {
        "id": "Yt30vXYGKA3l"
      }
    },
    {
      "cell_type": "markdown",
      "source": [
        "## **Map sizes and custom maps**"
      ],
      "metadata": {
        "id": "CqX6dPy5KJHy"
      }
    },
    {
      "cell_type": "markdown",
      "source": [
        "The default 4×4 map is not the only option to play the Frozen Lake game. Also, there’s an 8×8 version that we can create in two different ways. The first one is to use the specific environment id for the 8×8 map:"
      ],
      "metadata": {
        "id": "FkvYaFLHKM4f"
      }
    },
    {
      "cell_type": "code",
      "source": [
        "# frozen-lake-ex5.py\n",
        "env = gym.make(\"FrozenLake8x8-v0\")\n",
        "env.reset()\n",
        "env.render()"
      ],
      "metadata": {
        "colab": {
          "base_uri": "https://localhost:8080/"
        },
        "id": "PeCQ3xSeJ_6t",
        "outputId": "5f92e82f-baef-4a9f-f813-358a04ec6c3d"
      },
      "execution_count": 9,
      "outputs": [
        {
          "output_type": "stream",
          "name": "stdout",
          "text": [
            "\n",
            "\u001b[41mS\u001b[0mFFFFFFF\n",
            "FFFFFFFF\n",
            "FFFHFFFF\n",
            "FFFFFHFF\n",
            "FFFHFFFF\n",
            "FHHFFFHF\n",
            "FHFFHFHF\n",
            "FFFHFFFG\n"
          ]
        }
      ]
    },
    {
      "cell_type": "markdown",
      "source": [
        "The second option is to call the make method passing the value “8×8” as an argument to the map_name parameter:"
      ],
      "metadata": {
        "id": "iFMKBd8BKPbt"
      }
    },
    {
      "cell_type": "code",
      "source": [
        "# frozen-lake-ex5.py\n",
        "env = gym.make('FrozenLake-v0', map_name='8x8')\n",
        "env.reset()\n",
        "env.render()"
      ],
      "metadata": {
        "colab": {
          "base_uri": "https://localhost:8080/"
        },
        "id": "xVGQkUzOKOeW",
        "outputId": "bb7ef5db-d7b5-4e6a-84c4-00457d6f58ba"
      },
      "execution_count": 10,
      "outputs": [
        {
          "output_type": "stream",
          "name": "stdout",
          "text": [
            "\n",
            "\u001b[41mS\u001b[0mFFFFFFF\n",
            "FFFFFFFF\n",
            "FFFHFFFF\n",
            "FFFFFHFF\n",
            "FFFHFFFF\n",
            "FHHFFFHF\n",
            "FHFFHFHF\n",
            "FFFHFFFG\n"
          ]
        }
      ]
    },
    {
      "cell_type": "markdown",
      "source": [
        "And finally, we can create our custom map of the Frozen Lake game by passing an array of strings representing the map as an argument to the parameter desc:"
      ],
      "metadata": {
        "id": "8ypHnio8KVUC"
      }
    },
    {
      "cell_type": "code",
      "source": [
        "custom_map = [\n",
        "    'SFFHF',\n",
        "    'HFHFF',\n",
        "    'HFFFH',\n",
        "    'HHHFH',\n",
        "    'HFFFG'\n",
        "]\n",
        " \n",
        "env = gym.make('FrozenLake-v0', desc=custom_map)\n",
        "env.reset()\n",
        "env.render()"
      ],
      "metadata": {
        "colab": {
          "base_uri": "https://localhost:8080/"
        },
        "id": "g2qTA7piKSAv",
        "outputId": "8bd070dd-d1da-4ae2-ead1-490918699829"
      },
      "execution_count": 12,
      "outputs": [
        {
          "output_type": "stream",
          "name": "stdout",
          "text": [
            "\n",
            "\u001b[41mS\u001b[0mFFHF\n",
            "HFHFF\n",
            "HFFFH\n",
            "HHHFH\n",
            "HFFFG\n"
          ]
        }
      ]
    },
    {
      "cell_type": "markdown",
      "source": [
        "## **Conclusion**"
      ],
      "metadata": {
        "id": "uuC2Ed6oKbl7"
      }
    },
    {
      "cell_type": "markdown",
      "source": [
        "In this post, we learned how to use the Gym library to create an environment to train a reinforcement learning agent. We focused on the Frozen Lake environment, a text mode game with simple rules but that allows us to explore the fundamental concepts of reinforcement learning."
      ],
      "metadata": {
        "id": "IzjNiO9iKgvG"
      }
    },
    {
      "cell_type": "markdown",
      "source": [
        "## **References**"
      ],
      "metadata": {
        "id": "yd61_002Kjwk"
      }
    },
    {
      "cell_type": "markdown",
      "source": [
        "A brief introduction to reinforcement learning concepts can be found at [How AI Learns to Play Games](https://reinforcement-learning4.fun/2019/06/03/how-ai-learns-play-games/). The Frozen Lake game rules and fundamental concepts of reinforcement learning can be found at [Introduction to Reinforcement Learning: the Frozen Lake Example](https://reinforcement-learning4.fun/2019/06/09/introduction-reinforcement-learning-frozen-lake-example/). Finally, you find instructions on how to install the Gym environment, check the post [How to Install Gym](https://reinforcement-learning4.fun/2019/05/24/how-to-install-openai-gym/).\n",
        "\n",
        "Finally, the code examples for this post can be found at https://github.com/rodmsmendes/reinforcementlearning4fun/tree/master/gym-tutorial-frozen-lake."
      ],
      "metadata": {
        "id": "OWz2SXNUKndF"
      }
    }
  ]
}